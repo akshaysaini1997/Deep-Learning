{
 "cells": [
  {
   "cell_type": "code",
   "execution_count": 1,
   "id": "4cd9a1d7",
   "metadata": {},
   "outputs": [],
   "source": [
    "import tensorflow as tf"
   ]
  },
  {
   "cell_type": "code",
   "execution_count": 3,
   "id": "fa77551e",
   "metadata": {},
   "outputs": [],
   "source": [
    "#define the RNN model\n",
    "\n",
    "rnn = tf.keras.layers.SimpleRNN(units = 64)"
   ]
  },
  {
   "cell_type": "code",
   "execution_count": 4,
   "id": "66d3d499",
   "metadata": {},
   "outputs": [],
   "source": [
    "#define the loss function\n",
    "loss_fn= tf.keras.losses.MeanSquaredError()"
   ]
  },
  {
   "cell_type": "code",
   "execution_count": 5,
   "id": "1f1b5bd1",
   "metadata": {},
   "outputs": [],
   "source": [
    "# Define the optimizer\n",
    "optimizer = tf.keras.optimizers.SGD(learning_rate = 0.01)"
   ]
  },
  {
   "cell_type": "code",
   "execution_count": 6,
   "id": "1e2dd87e",
   "metadata": {},
   "outputs": [],
   "source": [
    "#Generate dummy data\n",
    "input_data = tf.random.normal(shape= (32, 10 , 32))\n",
    "target_data = tf.random.normal(shape = (32 , 64))"
   ]
  },
  {
   "cell_type": "code",
   "execution_count": 7,
   "id": "8b4a0f09",
   "metadata": {},
   "outputs": [],
   "source": [
    "#Perform forward pass\n",
    "with tf.GradientTape() as tape:\n",
    "    predictions = rnn(input_data)\n",
    "    loss_value = loss_fn(target_data, predictions)"
   ]
  },
  {
   "cell_type": "code",
   "execution_count": 8,
   "id": "4c14e0a0",
   "metadata": {},
   "outputs": [],
   "source": [
    "#Perform backward pass\n",
    "gradients = tape.gradient(loss_value , rnn.trainable_variables)"
   ]
  },
  {
   "cell_type": "code",
   "execution_count": 10,
   "id": "69854205",
   "metadata": {},
   "outputs": [
    {
     "data": {
      "text/plain": [
       "<tf.Variable 'UnreadVariable' shape=() dtype=int64, numpy=1>"
      ]
     },
     "execution_count": 10,
     "metadata": {},
     "output_type": "execute_result"
    }
   ],
   "source": [
    "#Update parameters\n",
    "optimizer.apply_gradients(zip(gradients , rnn.trainable_variables))"
   ]
  },
  {
   "cell_type": "code",
   "execution_count": null,
   "id": "ea0215aa",
   "metadata": {},
   "outputs": [],
   "source": []
  }
 ],
 "metadata": {
  "kernelspec": {
   "display_name": "Python 3 (ipykernel)",
   "language": "python",
   "name": "python3"
  },
  "language_info": {
   "codemirror_mode": {
    "name": "ipython",
    "version": 3
   },
   "file_extension": ".py",
   "mimetype": "text/x-python",
   "name": "python",
   "nbconvert_exporter": "python",
   "pygments_lexer": "ipython3",
   "version": "3.10.11"
  }
 },
 "nbformat": 4,
 "nbformat_minor": 5
}
